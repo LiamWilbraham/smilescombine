{
 "cells": [
  {
   "cell_type": "markdown",
   "metadata": {},
   "source": [
    "### To do \n",
    "\n",
    "* allow for specific and automatic placement of substituents\n",
    "* perfect ring order function for arbitrary number of rings\n",
    "* allow *.mol and *.csv format as output"
   ]
  },
  {
   "cell_type": "markdown",
   "metadata": {},
   "source": [
    "### Issues\n",
    "\n",
    "* problems with Si and Carboxylic Acid substituents : cannot canonicalize"
   ]
  },
  {
   "cell_type": "code",
   "execution_count": 1,
   "metadata": {},
   "outputs": [],
   "source": [
    "from smilescombine import Combiner"
   ]
  },
  {
   "cell_type": "code",
   "execution_count": 2,
   "metadata": {
    "scrolled": true
   },
   "outputs": [
    {
     "name": "stdout",
     "output_type": "stream",
     "text": [
      "Skeleton SMILES: c1ccccc1\n",
      "Number of vacant sites: 6\n",
      "Numer of unique substituent permutations: 12 \n",
      "\n",
      "c1ccccc1\n",
      "Nc1ccccc1N\n",
      "Nc1ccccc1\n",
      "Nc1cccc(N)c1\n",
      "Nc1ccc(N)cc1\n",
      "CN(C)c1ccccc1N(C)C\n",
      "CN(C)c1ccccc1N\n",
      "CN(C)c1ccccc1\n",
      "CN(C)c1cccc(N)c1\n",
      "CN(C)c1cccc(N(C)C)c1\n",
      "CN(C)c1ccc(N)cc1\n",
      "CN(C)c1ccc(N(C)C)cc1\n"
     ]
    }
   ],
   "source": [
    "substituents = ['(N(C)C)', '(N)', ]#'(OC)', '(O)', '(S)', '(C)', '(F)', '(Cl)', '(CC)', '(C=O)', '(C(=O)OC)', '(C(F)(F)(F))', '(C#N)', '(N(=O)(=O))']    \n",
    "\n",
    "skeleton = Combiner('c1ccccc1', substituents, nmax=2, nconnect=0, auto_placement=True)\n",
    "skeleton.combine_substituents()\n",
    "\n",
    "for item in skeleton.combinations:\n",
    "    print(item)"
   ]
  },
  {
   "cell_type": "code",
   "execution_count": null,
   "metadata": {
    "collapsed": true
   },
   "outputs": [],
   "source": []
  }
 ],
 "metadata": {
  "kernelspec": {
   "display_name": "Python 3",
   "language": "python",
   "name": "python3"
  },
  "language_info": {
   "codemirror_mode": {
    "name": "ipython",
    "version": 3
   },
   "file_extension": ".py",
   "mimetype": "text/x-python",
   "name": "python",
   "nbconvert_exporter": "python",
   "pygments_lexer": "ipython3",
   "version": "3.6.2"
  }
 },
 "nbformat": 4,
 "nbformat_minor": 2
}
