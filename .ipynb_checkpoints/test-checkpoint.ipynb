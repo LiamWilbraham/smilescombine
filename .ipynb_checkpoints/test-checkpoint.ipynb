{
 "cells": [
  {
   "cell_type": "markdown",
   "metadata": {},
   "source": [
    "### To do \n",
    "\n",
    "* perfect ring order function for arbitrary number of rings\n",
    "* cannot add to aromatic carbons! need to do Hs instead"
   ]
  },
  {
   "cell_type": "markdown",
   "metadata": {},
   "source": [
    "### Issues\n",
    "\n",
    "* problems with Si and Carboxylic Acid substituents : cannot canonicalize"
   ]
  },
  {
   "cell_type": "code",
   "execution_count": 11,
   "metadata": {},
   "outputs": [
    {
     "ename": "ArgumentError",
     "evalue": "Python argument types in\n    rdkit.Chem.rdMolDescriptors.CalcNumAromaticRings(NoneType)\ndid not match C++ signature:\n    CalcNumAromaticRings(RDKit::ROMol mol)",
     "output_type": "error",
     "traceback": [
      "\u001b[0;31m---------------------------------------------------------------------------\u001b[0m",
      "\u001b[0;31mArgumentError\u001b[0m                             Traceback (most recent call last)",
      "\u001b[0;32m<ipython-input-11-88123a8d8183>\u001b[0m in \u001b[0;36m<module>\u001b[0;34m()\u001b[0m\n\u001b[1;32m      3\u001b[0m \u001b[0;32mfrom\u001b[0m \u001b[0mrdkit\u001b[0m\u001b[0;34m.\u001b[0m\u001b[0mChem\u001b[0m \u001b[0;32mimport\u001b[0m \u001b[0mrdMolDescriptors\u001b[0m\u001b[0;34m\u001b[0m\u001b[0m\n\u001b[1;32m      4\u001b[0m \u001b[0;34m\u001b[0m\u001b[0m\n\u001b[0;32m----> 5\u001b[0;31m \u001b[0mrdMolDescriptors\u001b[0m\u001b[0;34m.\u001b[0m\u001b[0mCalcNumAromaticRings\u001b[0m\u001b[0;34m(\u001b[0m\u001b[0mrdkit\u001b[0m\u001b[0;34m.\u001b[0m\u001b[0mMolFromSmiles\u001b[0m\u001b[0;34m(\u001b[0m\u001b[0;34m'(c3ccc2ccccc2c3)'\u001b[0m\u001b[0;34m)\u001b[0m\u001b[0;34m)\u001b[0m\u001b[0;34m\u001b[0m\u001b[0m\n\u001b[0m",
      "\u001b[0;31mArgumentError\u001b[0m: Python argument types in\n    rdkit.Chem.rdMolDescriptors.CalcNumAromaticRings(NoneType)\ndid not match C++ signature:\n    CalcNumAromaticRings(RDKit::ROMol mol)"
     ]
    }
   ],
   "source": [
    "from smilescombine import Combiner\n",
    "import rdkit.Chem as rdkit\n",
    "from rdkit.Chem import rdMolDescriptors\n",
    "\n",
    "substituents = ['(N(C)C)', '(c2ccc1cccc12']\n",
    "\n",
    "for i, item in enumerate(substituents):\n",
    "    rings = rdMolDescriptors.CalcNumAromaticRings(rdkit.MolFromSmiles(item[1:-1]))\n",
    "    if rings > 0:\n",
    "        for j in range(rings):\n",
    "            substituents[index] = item.replace(str(j), str(j+1))"
   ]
  },
  {
   "cell_type": "code",
   "execution_count": 4,
   "metadata": {
    "scrolled": true
   },
   "outputs": [
    {
     "name": "stdout",
     "output_type": "stream",
     "text": [
      "Skeleton SMILES: c1ccccc1\n",
      "Number of vacant sites: 6\n",
      "Numer of unique substituent permutations: 3 \n",
      "\n"
     ]
    },
    {
     "data": {
      "text/plain": [
       "Skeleton SMILES: c1ccccc1\n",
       "Substituents: ['(N(C)C)', '(c3ccc2ccccc2c3)']\n",
       "Max number of substitutions: 1\n",
       "Possible substitution sites: 6\n",
       "Number of unique combinations: 3"
      ]
     },
     "execution_count": 4,
     "metadata": {},
     "output_type": "execute_result"
    }
   ],
   "source": [
    "substituents = ['(N(C)C)', '(c3ccc2ccccc2c3)']#, '(O)', '(N)', '(S)', '(C)', '(F)', ]#'(Cl)', '(CC)', '(C=O)', '(C(=O)OC)', '(C(F)(F)(F))', '(C#N)', '(N(=O)(=O))']    \n",
    "\n",
    "skeleton = Combiner('c1ccccc1', substituents, nmax=1, nconnect=0, auto_placement=True)\n",
    "skeleton.combine_substituents()\n",
    "\n",
    "skeleton"
   ]
  },
  {
   "cell_type": "code",
   "execution_count": null,
   "metadata": {
    "collapsed": true
   },
   "outputs": [],
   "source": []
  }
 ],
 "metadata": {
  "kernelspec": {
   "display_name": "Python 3",
   "language": "python",
   "name": "python3"
  },
  "language_info": {
   "codemirror_mode": {
    "name": "ipython",
    "version": 3
   },
   "file_extension": ".py",
   "mimetype": "text/x-python",
   "name": "python",
   "nbconvert_exporter": "python",
   "pygments_lexer": "ipython3",
   "version": "3.6.2"
  }
 },
 "nbformat": 4,
 "nbformat_minor": 2
}
