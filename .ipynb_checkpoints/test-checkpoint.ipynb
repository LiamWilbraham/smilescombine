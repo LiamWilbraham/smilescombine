{
 "cells": [
  {
   "cell_type": "markdown",
   "metadata": {},
   "source": [
    "### To do \n",
    "\n",
    "* combinatons function needs to be generator\n",
    "* allow for specific and automatic placement of substituents\n",
    "* perfect ring order function for arbitrary number of rings\n",
    "* allow *.mol and *.csv format as output"
   ]
  },
  {
   "cell_type": "markdown",
   "metadata": {},
   "source": [
    "### Issues\n",
    "\n",
    "* problems with Si and Carboxylic Acid substituents : cannot canonicalize"
   ]
  },
  {
   "cell_type": "code",
   "execution_count": 1,
   "metadata": {},
   "outputs": [],
   "source": [
    "from smilescombine import Combiner"
   ]
  },
  {
   "cell_type": "code",
   "execution_count": 2,
   "metadata": {
    "scrolled": true
   },
   "outputs": [
    {
     "name": "stdout",
     "output_type": "stream",
     "text": [
      "Skeleton: c1(Br)c(Br)c(Br)c(Br)c(Br)c1(Br)\n",
      "Number of vacant sites: 6\n",
      "Numer of unique substituent permutations: 0 \n",
      "\n"
     ]
    }
   ],
   "source": [
    "substituents = ['(N(C)C)', '(N)', '(OC)']#, '(O)', '(S)', '(C)', '(F)', '(Cl)', '(CC)', '(C=O)', '(C(=O)OC)', '(C(F)(F)(F))', '(C#N)', '(N(=O)(=O))']    \n",
    "\n",
    "skeleton = Combiner('c1(Br)c(Br)c(Br)c(Br)c(Br)c1(Br)', substituents, nmax=2, nconnect=0)\n",
    "\n",
    "combinations = skeleton.combine_substituents()\n",
    "    \n",
    "for i in combinations:\n",
    "    print(i)"
   ]
  },
  {
   "cell_type": "code",
   "execution_count": 3,
   "metadata": {},
   "outputs": [
    {
     "name": "stdout",
     "output_type": "stream",
     "text": [
      "c1(Br)c(Br)c(Br)c(Br)c(Br)c1(Br)\n",
      "['', '(N(C)C)', '(N)', '(OC)']\n",
      "6\n",
      "102\n"
     ]
    }
   ],
   "source": [
    "print(skeleton.skeleton_smiles)\n",
    "print(skeleton.substituents)\n",
    "print(skeleton.vacant_sites)\n",
    "print(skeleton.unique_combinations)"
   ]
  },
  {
   "cell_type": "code",
   "execution_count": null,
   "metadata": {
    "collapsed": true
   },
   "outputs": [],
   "source": []
  }
 ],
 "metadata": {
  "kernelspec": {
   "display_name": "Python 3",
   "language": "python",
   "name": "python3"
  },
  "language_info": {
   "codemirror_mode": {
    "name": "ipython",
    "version": 3
   },
   "file_extension": ".py",
   "mimetype": "text/x-python",
   "name": "python",
   "nbconvert_exporter": "python",
   "pygments_lexer": "ipython3",
   "version": "3.6.2"
  }
 },
 "nbformat": 4,
 "nbformat_minor": 2
}
