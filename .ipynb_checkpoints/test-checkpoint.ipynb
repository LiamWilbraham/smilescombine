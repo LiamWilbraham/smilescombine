{
 "cells": [
  {
   "cell_type": "markdown",
   "metadata": {},
   "source": [
    "### To do \n",
    "\n",
    "* perfect ring order function for arbitrary number of rings"
   ]
  },
  {
   "cell_type": "markdown",
   "metadata": {},
   "source": [
    "### Issues\n",
    "\n",
    "* problems with Si and Carboxylic Acid substituents : cannot canonicalize"
   ]
  },
  {
   "cell_type": "code",
   "execution_count": 1,
   "metadata": {},
   "outputs": [],
   "source": [
    "from smilescombine import Combiner"
   ]
  },
  {
   "cell_type": "code",
   "execution_count": 2,
   "metadata": {
    "scrolled": true
   },
   "outputs": [
    {
     "name": "stdout",
     "output_type": "stream",
     "text": [
      "Skeleton SMILES: c1ccccc1\n",
      "Number of vacant sites: 6\n",
      "Numer of unique substituent permutations: 53 \n",
      "\n",
      "Nc1cccc(Br)c1Br\n",
      "Nc1ccc(N)c(Br)c1Br\n",
      "Nc1ccc(Br)cc1Br\n",
      "Nc1ccc(Br)c(N)c1Br\n",
      "Nc1ccc(Br)c(Br)c1N\n",
      "Nc1ccc(Br)c(Br)c1\n",
      "Nc1cc(N)c(Br)cc1Br\n",
      "Nc1cc(N)c(Br)c(Br)c1\n",
      "Nc1cc(Br)ccc1Br\n",
      "Nc1cc(Br)cc(N)c1Br\n",
      "Nc1cc(Br)cc(Br)c1N\n",
      "Nc1cc(Br)cc(Br)c1\n",
      "Nc1cc(Br)c(N)cc1Br\n",
      "Nc1cc(Br)c(N)c(Br)c1\n",
      "Nc1cc(Br)c(Br)cc1N\n",
      "Nc1c(Br)cccc1Br\n",
      "Nc1c(Br)ccc(Br)c1N\n",
      "CN(C)c1cccc(Br)c1Br\n",
      "CN(C)c1ccc(N)c(Br)c1Br\n",
      "CN(C)c1ccc(N(C)C)c(Br)c1Br\n",
      "CN(C)c1ccc(Br)cc1Br\n",
      "CN(C)c1ccc(Br)c(N)c1Br\n",
      "CN(C)c1ccc(Br)c(N(C)C)c1Br\n",
      "CN(C)c1ccc(Br)c(Br)c1N(C)C\n",
      "CN(C)c1ccc(Br)c(Br)c1N\n",
      "CN(C)c1ccc(Br)c(Br)c1\n",
      "CN(C)c1cc(N)cc(Br)c1Br\n",
      "CN(C)c1cc(N)c(Br)cc1Br\n",
      "CN(C)c1cc(N)c(Br)c(Br)c1\n",
      "CN(C)c1cc(N(C)C)c(Br)cc1Br\n",
      "CN(C)c1cc(Br)ccc1Br\n",
      "CN(C)c1cc(Br)cc(N)c1Br\n",
      "CN(C)c1cc(Br)cc(N(C)C)c1Br\n",
      "CN(C)c1cc(Br)cc(Br)c1N(C)C\n",
      "CN(C)c1cc(Br)cc(Br)c1N\n",
      "CN(C)c1cc(Br)cc(Br)c1\n",
      "CN(C)c1cc(Br)c(N)cc1Br\n",
      "CN(C)c1cc(Br)c(N)c(Br)c1\n",
      "CN(C)c1cc(Br)c(N(C)C)cc1Br\n",
      "CN(C)c1cc(Br)c(N(C)C)c(Br)c1\n",
      "CN(C)c1cc(Br)c(Br)cc1N(C)C\n",
      "CN(C)c1cc(Br)c(Br)cc1N\n",
      "CN(C)c1cc(Br)c(Br)c(N(C)C)c1\n",
      "CN(C)c1c(N)ccc(Br)c1Br\n",
      "CN(C)c1c(N)cc(Br)cc1Br\n",
      "CN(C)c1c(Br)cccc1Br\n",
      "CN(C)c1c(Br)ccc(N)c1Br\n",
      "CN(C)c1c(Br)ccc(Br)c1N(C)C\n",
      "CN(C)c1c(Br)ccc(Br)c1N\n",
      "CN(C)c1c(Br)cc(N)cc1Br\n",
      "Brc1ccccc1Br\n",
      "Brc1cccc(Br)c1\n",
      "Brc1ccc(Br)cc1\n"
     ]
    }
   ],
   "source": [
    "substituents = ['(N(C)C)', '(N)']#, '(OC)', '(O)', '(S)', '(C)', '(F)', '(Cl)', '(CC)', '(C=O)', '(C(=O)OC)', '(C(F)(F)(F))', '(C#N)', '(N(=O)(=O))']    \n",
    "\n",
    "skeleton = Combiner('c1ccccc1', substituents, nmax=4, nconnect=2, auto_placement=True)\n",
    "skeleton.combine_substituents()\n",
    "\n",
    "for item in skeleton.combinations:\n",
    "    print(item)"
   ]
  },
  {
   "cell_type": "code",
   "execution_count": 4,
   "metadata": {},
   "outputs": [
    {
     "data": {
      "text/plain": [
       "Skeleton SMILES: c1ccccc1\n",
       "Substituents: ['(N(C)C)', '(N)']\n",
       "Max number of substitutions: 4\n",
       "Possible substitution sites: 6\n",
       "Number of unique combinations: 53\n",
       "Connection points: 2"
      ]
     },
     "execution_count": 4,
     "metadata": {},
     "output_type": "execute_result"
    }
   ],
   "source": [
    "skeleton"
   ]
  },
  {
   "cell_type": "code",
   "execution_count": null,
   "metadata": {
    "collapsed": true
   },
   "outputs": [],
   "source": []
  }
 ],
 "metadata": {
  "kernelspec": {
   "display_name": "Python 3",
   "language": "python",
   "name": "python3"
  },
  "language_info": {
   "codemirror_mode": {
    "name": "ipython",
    "version": 3
   },
   "file_extension": ".py",
   "mimetype": "text/x-python",
   "name": "python",
   "nbconvert_exporter": "python",
   "pygments_lexer": "ipython3",
   "version": "3.6.2"
  }
 },
 "nbformat": 4,
 "nbformat_minor": 2
}
