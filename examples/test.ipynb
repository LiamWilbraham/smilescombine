{
 "cells": [
  {
   "cell_type": "markdown",
   "metadata": {},
   "source": [
    "### To do \n",
    "* substituents  that have multiple points of attachment\n",
    "* second order ennumeration (using enumerated fragments as seeds)"
   ]
  },
  {
   "cell_type": "markdown",
   "metadata": {},
   "source": [
    "### Issues\n",
    "\n",
    "* problems with Si and Carboxylic Acid substituents : cannot canonicalize"
   ]
  },
  {
   "cell_type": "code",
   "execution_count": 1,
   "metadata": {
    "collapsed": true,
    "tags": []
   },
   "outputs": [
    {
     "output_type": "stream",
     "name": "stderr",
     "text": "RDKit WARNING: [15:57:32] Enabling RDKit 2019.09.3 jupyter extensions\n"
    }
   ],
   "source": [
    "from smilescombine import Combiner"
   ]
  },
  {
   "cell_type": "code",
   "execution_count": 2,
   "metadata": {
    "scrolled": true,
    "tags": []
   },
   "outputs": [
    {
     "output_type": "stream",
     "name": "stdout",
     "text": "Skeleton SMILES: c1ccsc1\nNumber of vacant sites: 4\nNumer of unique substituent permutations: 127 \n\n"
    },
    {
     "output_type": "execute_result",
     "data": {
      "text/plain": "['c1ccsc1',\n 'Sc1cscc1S',\n 'Sc1csc(S)c1',\n 'Sc1ccsc1S',\n 'Sc1ccsc1',\n 'Sc1cccs1',\n 'Sc1ccc(S)s1',\n 'Oc1sccc1S',\n 'Oc1sccc1F',\n 'Oc1cscc1S',\n 'Oc1cscc1O',\n 'Oc1cscc1F',\n 'Oc1csc(S)c1',\n 'Oc1csc(O)c1',\n 'Oc1csc(F)c1',\n 'Oc1ccsc1S',\n 'Oc1ccsc1O',\n 'Oc1ccsc1F',\n 'Oc1ccsc1',\n 'Oc1cccs1',\n 'Oc1ccc(S)s1',\n 'Oc1ccc(O)s1',\n 'Oc1ccc(F)s1',\n 'Oc1cc(S)cs1',\n 'Oc1cc(F)cs1',\n 'Nc1sccc1S',\n 'Nc1sccc1O',\n 'Nc1sccc1F',\n 'Nc1cscc1S',\n 'Nc1cscc1O',\n 'Nc1cscc1N',\n 'Nc1cscc1F',\n 'Nc1csc(S)c1',\n 'Nc1csc(O)c1',\n 'Nc1csc(N)c1',\n 'Nc1csc(F)c1',\n 'Nc1ccsc1S',\n 'Nc1ccsc1O',\n 'Nc1ccsc1N',\n 'Nc1ccsc1F',\n 'Nc1ccsc1',\n 'Nc1cccs1',\n 'Nc1ccc(S)s1',\n 'Nc1ccc(O)s1',\n 'Nc1ccc(N)s1',\n 'Nc1ccc(F)s1',\n 'Nc1cc(S)cs1',\n 'Nc1cc(O)cs1',\n 'Nc1cc(F)cs1',\n 'Fc1sccc1S',\n 'Fc1cscc1S',\n 'Fc1cscc1F',\n 'Fc1csc(S)c1',\n 'Fc1csc(F)c1',\n 'Fc1ccsc1S',\n 'Fc1ccsc1F',\n 'Fc1ccsc1',\n 'Fc1cccs1',\n 'Fc1ccc(S)s1',\n 'Fc1ccc(F)s1',\n 'Fc1cc(S)cs1',\n 'Cc1sccc1S',\n 'Cc1sccc1O',\n 'Cc1sccc1N(C)C',\n 'Cc1sccc1N',\n 'Cc1sccc1F',\n 'Cc1cscc1S',\n 'Cc1cscc1O',\n 'Cc1cscc1N(C)C',\n 'Cc1cscc1N',\n 'Cc1cscc1F',\n 'Cc1cscc1C',\n 'Cc1csc(S)c1',\n 'Cc1csc(O)c1',\n 'Cc1csc(N)c1',\n 'Cc1csc(N(C)C)c1',\n 'Cc1csc(F)c1',\n 'Cc1csc(C)c1',\n 'Cc1ccsc1S',\n 'Cc1ccsc1O',\n 'Cc1ccsc1N(C)C',\n 'Cc1ccsc1N',\n 'Cc1ccsc1F',\n 'Cc1ccsc1C',\n 'Cc1ccsc1',\n 'Cc1cccs1',\n 'Cc1ccc(S)s1',\n 'Cc1ccc(O)s1',\n 'Cc1ccc(N)s1',\n 'Cc1ccc(N(C)C)s1',\n 'Cc1ccc(F)s1',\n 'Cc1ccc(C)s1',\n 'Cc1cc(S)cs1',\n 'Cc1cc(O)cs1',\n 'Cc1cc(N)cs1',\n 'Cc1cc(N(C)C)cs1',\n 'Cc1cc(F)cs1',\n 'CN(C)c1sccc1S',\n 'CN(C)c1sccc1O',\n 'CN(C)c1sccc1N',\n 'CN(C)c1sccc1F',\n 'CN(C)c1cscc1S',\n 'CN(C)c1cscc1O',\n 'CN(C)c1cscc1N(C)C',\n 'CN(C)c1cscc1N',\n 'CN(C)c1cscc1F',\n 'CN(C)c1csc(S)c1',\n 'CN(C)c1csc(O)c1',\n 'CN(C)c1csc(N)c1',\n 'CN(C)c1csc(N(C)C)c1',\n 'CN(C)c1csc(F)c1',\n 'CN(C)c1ccsc1S',\n 'CN(C)c1ccsc1O',\n 'CN(C)c1ccsc1N(C)C',\n 'CN(C)c1ccsc1N',\n 'CN(C)c1ccsc1F',\n 'CN(C)c1ccsc1',\n 'CN(C)c1cccs1',\n 'CN(C)c1ccc(S)s1',\n 'CN(C)c1ccc(O)s1',\n 'CN(C)c1ccc(N)s1',\n 'CN(C)c1ccc(N(C)C)s1',\n 'CN(C)c1ccc(F)s1',\n 'CN(C)c1cc(S)cs1',\n 'CN(C)c1cc(O)cs1',\n 'CN(C)c1cc(N)cs1',\n 'CN(C)c1cc(F)cs1']"
     },
     "metadata": {},
     "execution_count": 2
    }
   ],
   "source": [
    "substituents = ['(N(C)C)', '(O)', '(N)', '(S)', '(C)', '(F)']    \n",
    "\n",
    "combiner = Combiner('c1ccsc1', substituents, nmax=2, auto_placement=True)\n",
    "combiner.combine_substituents('./SMILES.csv')"
   ]
  },
  {
   "cell_type": "code",
   "execution_count": null,
   "metadata": {
    "collapsed": true
   },
   "outputs": [],
   "source": []
  }
 ],
 "metadata": {
  "kernelspec": {
   "display_name": "Python 3",
   "language": "python",
   "name": "python3"
  },
  "language_info": {
   "codemirror_mode": {
    "name": "ipython",
    "version": 3
   },
   "file_extension": ".py",
   "mimetype": "text/x-python",
   "name": "python",
   "nbconvert_exporter": "python",
   "pygments_lexer": "ipython3",
   "version": "3.8.3-final"
  }
 },
 "nbformat": 4,
 "nbformat_minor": 2
}