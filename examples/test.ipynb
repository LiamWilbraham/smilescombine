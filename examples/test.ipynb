{
 "cells": [
  {
   "cell_type": "markdown",
   "metadata": {},
   "source": [
    "### To do \n",
    "* substituents  that have multiple points of attachment\n",
    "* second order ennumeration (using enumerated fragments as seeds)"
   ]
  },
  {
   "cell_type": "markdown",
   "metadata": {},
   "source": [
    "### Issues\n",
    "\n",
    "* problems with Si and Carboxylic Acid substituents : cannot canonicalize"
   ]
  },
  {
   "cell_type": "code",
   "execution_count": 8,
   "metadata": {},
   "outputs": [],
   "source": [
    "import sys\n",
    "sys.path.insert(0, 'C:/Users/Liam/Dropbox/_Repos/smilescombine')\n",
    "\n",
    "from smilescombine import Combiner\n",
    "import rdkit.Chem as rdkit\n"
   ]
  },
  {
   "cell_type": "code",
   "execution_count": 9,
   "metadata": {
    "scrolled": true
   },
   "outputs": [
    {
     "name": "stdout",
     "output_type": "stream",
     "text": [
      "Skeleton SMILES: c1ccsc1\n",
      "Number of vacant sites: 4\n",
      "Numer of unique substituent permutations: 1225 \n",
      "\n"
     ]
    },
    {
     "data": {
      "text/plain": [
       "Skeleton SMILES: c1ccsc1\n",
       "Substituents: ['(N(C)C)', '(O)', '(N)', '(S)', '(C)', '(F)']\n",
       "Max number of substitutions: 4\n",
       "Possible substitution sites: 4\n",
       "Number of unique combinations: 1225"
      ]
     },
     "execution_count": 9,
     "metadata": {},
     "output_type": "execute_result"
    }
   ],
   "source": [
    "substituents = ['(N(C)C)', '(O)', '(N)', '(S)', '(C)', '(F)', ]#'(Cl)', '(CC)', '(C=O)', '(C(=O)OC)', '(C(F)(F)(F))', '(C#N)', '(N(=O)(=O))']    \n",
    "\n",
    "skeleton = Combiner('c1ccsc1', substituents, nmax=4, nconnect=0, auto_placement=True)\n",
    "skeleton.combine_substituents()\n",
    "\n",
    "skeleton"
   ]
  },
  {
   "cell_type": "code",
   "execution_count": null,
   "metadata": {
    "collapsed": true
   },
   "outputs": [],
   "source": []
  }
 ],
 "metadata": {
  "kernelspec": {
   "display_name": "Python 3",
   "language": "python",
   "name": "python3"
  }
 },
 "nbformat": 4,
 "nbformat_minor": 2
}
